{
 "cells": [
  {
   "cell_type": "markdown",
   "id": "eb77386a-a6d5-46dd-8ccc-b8c957442d7e",
   "metadata": {},
   "source": [
    "# Stanton Murillo Transport Validation and Improved XC Correction\n",
    "\n",
    "[1] \"Ionic transport in high-energy-density matter\"  [10.1103/PhysRevE.93.043203](https://journals.aps.org/pre/abstract/10.1103/PhysRevE.93.043203)\n",
    "\n",
    "[2]\"Efficient model for electronic transport in high energy-density matter \"  [https://doi.org/10.1063/5.0048162](https://doi.org/10.1063/5.0048162)\n",
    "\n",
    "[3]\"Rapid ...\" [https:...]"
   ]
  },
  {
   "cell_type": "code",
   "execution_count": 1,
   "id": "39167adf-6e14-4748-8d92-22e07b233afc",
   "metadata": {
    "tags": []
   },
   "outputs": [],
   "source": [
    "import numpy as np\n",
    "import matplotlib.pyplot as plt\n",
    "\n",
    "from pandas import read_csv\n",
    "\n",
    "import SMT.core.transport as SMT\n",
    "from SMT.core.physical_constants import *\n",
    "from SMT.core.physical_parameters import rs_from_n\n",
    "\n",
    "import matplotlib.pyplot as plt\n",
    "import matplotlib as mpl\n",
    "\n",
    "from cycler import cycler\n",
    "\n",
    "\n",
    "mpl.rcParams['lines.linewidth'] = 2.2\n",
    "mpl.rcParams['axes.spines.right'] = False\n",
    "mpl.rcParams['axes.spines.top'] = False\n",
    "mpl.rcParams['axes.labelsize'] = 16\n",
    "mpl.rcParams['lines.markersize'] = 8\n",
    "mpl.rcParams['font.sans-serif'] = ['Arial', 'Tahoma', 'DejaVu Sans', 'Lucida Grande', 'Verdana']\n",
    "mpl.rcParams['font.size'] = 12\n",
    "mpl.rcParams['axes.grid'] = True\n",
    "mpl.rcParams['grid.color'] = '#636363'\n",
    "mpl.rcParams['grid.alpha'] = 0.12\n",
    "mpl.rcParams['grid.linewidth'] = 0.7\n",
    "mpl.rcParams['grid.linestyle'] = '-'\n",
    "mpl.rcParams['axes.prop_cycle'] = cycler('color',  ['#0AB34F', '#bf009f', '#00abc3', '#8e92c5', '#cc7014', '#e32851'])\n",
    "mpl.rcParams['legend.fancybox'] = True\n",
    "mpl.rcParams['legend.framealpha'] = 0.6\n",
    "mpl.rcParams['legend.fontsize'] = 10\n",
    "mpl.rcParams['figure.figsize'] = 8, 4.9443\n",
    "mpl.rcParams['figure.dpi'] = 100"
   ]
  },
  {
   "cell_type": "markdown",
   "id": "b8395f14-aca1-40a6-a613-8b0f7a93aae2",
   "metadata": {
    "tags": []
   },
   "source": [
    "## Define Useful transport function"
   ]
  },
  {
   "cell_type": "code",
   "execution_count": 25,
   "id": "5836c017-6456-4858-85b4-cdb7e3eb640c",
   "metadata": {
    "tags": []
   },
   "outputs": [],
   "source": [
    "def get_transport_functions(Z, A, ni_cc, xc_type=None):\n",
    "\n",
    "    if xc_type==None:\n",
    "        smt = SMT.TransportProperties(1, np.array([m_amu*A]), np.array([Z]), np.array([1*eV_to_AU, 1*eV_to_AU ]), np.array([ni_cc])*invcc_to_AU, improved_xc_SMT=False)\n",
    "    else:\n",
    "        smt = SMT.TransportProperties(1, np.array([m_amu*A]), np.array([Z]), np.array([1*eV_to_AU, 1*eV_to_AU ]), np.array([ni_cc])*invcc_to_AU, improved_xc_SMT=True, xc_type='PDW')\n",
    "\n",
    "\n",
    "    # All out in cgs\n",
    "    @np.vectorize\n",
    "    def ηSMT(T_eV):\n",
    "        T_AU = T_eV*eV_to_AU\n",
    "        smt.T_array = np.array([T_AU, T_AU])\n",
    "        return smt.viscosity()*AU_to_g*AU_to_invcc*AU_to_cm**2/AU_to_s\n",
    "    \n",
    "    @np.vectorize\n",
    "    def ηGBI(T_eV):\n",
    "        yvm = YVM(smt.mi_array*AU_to_g, smt.mi_array*AU_to_g*smt.ni_array*AU_to_invcc, T_eV, Z, units_out='cgs')\n",
    "        return yvm.viscosity_GBI()\n",
    "    \n",
    "    @np.vectorize\n",
    "    def ηYVM(T_eV):\n",
    "        yvm = YVM(smt.mi_array*AU_to_g, smt.mi_array*AU_to_g*smt.ni_array*AU_to_invcc, T_eV, Z, units_out='cgs')\n",
    "        return yvm.viscosity_YVM()\n",
    "\n",
    "    @np.vectorize\n",
    "    def κiSMT(T_eV):\n",
    "        T_AU = T_eV*eV_to_AU\n",
    "        smt.T_array = np.array([T_AU, T_AU])\n",
    "        return smt.κi* AU_to_erg/(AU_to_cm*AU_to_s*AU_to_K)\n",
    " \n",
    "    @np.vectorize\n",
    "    def κeSMT(T_eV):\n",
    "        T_AU = T_eV*eV_to_AU\n",
    "        smt.T_array = np.array([T_AU, T_AU])\n",
    "        return smt.κee* AU_to_erg/(AU_to_cm*AU_to_s*AU_to_K)\n",
    "    \n",
    "    @np.vectorize\n",
    "    def σeSMT(T_eV):\n",
    "        T_AU = T_eV*eV_to_AU\n",
    "        smt.T_array = np.array([T_AU, T_AU])\n",
    "        return smt.σ* AU_to_Siemens/AU_to_cm\n",
    "    \n",
    "    @np.vectorize\n",
    "    def λeff(T_eV):\n",
    "        T_AU = T_eV*eV_to_AU\n",
    "        smt.T_array = np.array([T_AU, T_AU])\n",
    "        return smt.λeff\n",
    "\n",
    "    @np.vectorize\n",
    "    def λeff(T_eV):\n",
    "        T_AU = T_eV*eV_to_AU\n",
    "        smt.T_array = np.array([T_AU, T_AU])\n",
    "        return smt.λeff\n",
    "\n",
    "    \n",
    "    #return ηSMT, ηGBI, ηYVM, κiSMT, κeSMT, σeSMT\n",
    "    return λeff\n",
    "\n",
    "N_ions = 1\n",
    "Z, A = 1, 1.00784\n",
    "ρi_gpercc  = 1\n",
    "ni_cc = ρi_gpercc/(m_amu*A*AU_to_g)\n",
    "\n",
    "λ_SMT_f = get_transport_functions(Z,A,ni_cc)\n",
    "λ_SMTPDW_f = get_transport_functions(Z,A,ni_cc, xc_type='PDW')"
   ]
  },
  {
   "cell_type": "code",
   "execution_count": 26,
   "id": "103ebb72-72cb-41b8-b6ed-5f43a5860327",
   "metadata": {},
   "outputs": [
    {
     "data": {
      "text/plain": [
       "<matplotlib.legend.Legend at 0x7fd5b8efe5f0>"
      ]
     },
     "execution_count": 26,
     "metadata": {},
     "output_type": "execute_result"
    },
    {
     "data": {
      "image/png": "[encoded data removed]",
      "text/plain": [
       "<Figure size 600x400 with 1 Axes>"
      ]
     },
     "metadata": {},
     "output_type": "display_data"
    }
   ],
   "source": [
    "fig, ax = plt.subplots( figsize=(6,4), facecolor='white')\n",
    "\n",
    "T_AU_list = np.geomspace(1e-1,1e4,num=100)*eV_to_AU\n",
    "\n",
    "ax.plot(T_AU_list*AU_to_eV, λ_SMT_f(T_AU_list*AU_to_eV)*AU_to_cm, label='SMT')\n",
    "ax.plot(T_AU_list*AU_to_eV, λ_SMTPDW_f(T_AU_list*AU_to_eV)*AU_to_cm, label='SMT + PDW xc')\n",
    "\n",
    "ax.set_ylabel(r\"$\\lambda_{\\rm eff} $[cm]\")\n",
    "ax.set_xlabel(r\"$T$ [eV]\")\n",
    "\n",
    "\n",
    "ax.set_ylim(2e-9,1e-7)\n",
    "# Scales\n",
    "ax.set_yscale('log')\n",
    "ax.set_xscale('log')\n",
    "\n",
    "# Legend\n",
    "ax.legend()\n",
    "\n"
   ]
  },
  {
   "cell_type": "code",
   "execution_count": null,
   "id": "25998022-e419-4b2e-ab31-083ab782fab3",
   "metadata": {},
   "outputs": [],
   "source": []
  }
 ],
 "metadata": {
  "kernelspec": {
   "display_name": "Python 3 (ipykernel)",
   "language": "python",
   "name": "python3"
  },
  "language_info": {
   "codemirror_mode": {
    "name": "ipython",
    "version": 3
   },
   "file_extension": ".py",
   "mimetype": "text/x-python",
   "name": "python",
   "nbconvert_exporter": "python",
   "pygments_lexer": "ipython3",
   "version": "3.10.6"
  }
 },
 "nbformat": 4,
 "nbformat_minor": 5
}
