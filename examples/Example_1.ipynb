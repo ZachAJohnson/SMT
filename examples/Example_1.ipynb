{
 "cells": [
  {
   "cell_type": "code",
   "execution_count": 1,
   "id": "39167adf-6e14-4748-8d92-22e07b233afc",
   "metadata": {
    "tags": []
   },
   "outputs": [],
   "source": [
    "import numpy as np\n",
    "\n",
    "import SMT.core.transport as smt\n"
   ]
  },
  {
   "cell_type": "code",
   "execution_count": 6,
   "id": "0324539e-4ab7-4452-9118-61c718c9e68e",
   "metadata": {
    "tags": []
   },
   "outputs": [],
   "source": [
    "props = smt.TransportProperties(1, np.array([1]), np.array([1]) , np.array([1]))"
   ]
  },
  {
   "cell_type": "code",
   "execution_count": 7,
   "id": "a05be30f-409d-4009-a85f-c9f0926fa6e3",
   "metadata": {
    "tags": []
   },
   "outputs": [
    {
     "name": "stdout",
     "output_type": "stream",
     "text": [
      "[1] [[0.12091229]]\n",
      "[4] [[0.03122098]]\n"
     ]
    }
   ],
   "source": [
    "print(props.T_array, props.K_11_matrix)\n",
    "props.T_array = np.array([4])\n",
    "print(props.T_array, props.K_11_matrix)"
   ]
  },
  {
   "cell_type": "code",
   "execution_count": null,
   "id": "d3ab04c9-92ee-40c5-8106-1f00110c88e3",
   "metadata": {},
   "outputs": [],
   "source": []
  },
  {
   "cell_type": "code",
   "execution_count": null,
   "id": "497a52fd-c011-419b-8282-6e0b2790b3c5",
   "metadata": {},
   "outputs": [],
   "source": []
  }
 ],
 "metadata": {
  "kernelspec": {
   "display_name": "Python 3 (ipykernel)",
   "language": "python",
   "name": "python3"
  },
  "language_info": {
   "codemirror_mode": {
    "name": "ipython",
    "version": 3
   },
   "file_extension": ".py",
   "mimetype": "text/x-python",
   "name": "python",
   "nbconvert_exporter": "python",
   "pygments_lexer": "ipython3",
   "version": "3.10.6"
  }
 },
 "nbformat": 4,
 "nbformat_minor": 5
}
